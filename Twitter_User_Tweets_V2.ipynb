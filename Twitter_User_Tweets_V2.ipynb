{
  "nbformat": 4,
  "nbformat_minor": 0,
  "metadata": {
    "colab": {
      "provenance": []
    },
    "kernelspec": {
      "name": "python3",
      "display_name": "Python 3"
    },
    "language_info": {
      "name": "python"
    }
  },
  "cells": [
    {
      "cell_type": "code",
      "execution_count": null,
      "metadata": {
        "id": "d1sJYvF3YW0F"
      },
      "outputs": [],
      "source": [
        "pip install git+https://github.com/tweepy/tweepy.git"
      ]
    },
    {
      "cell_type": "code",
      "source": [
        "import tweepy\n",
        "import pandas as pd\n",
        "\n",
        "consumer_key = 'ahdIzUg4gGxk8pF2vPVDI6MVl'\n",
        "consumer_secret = 'WUWFAsMQzksH0vG9Ug9LbtOJpexxqGFjucm1WzPyuzE55A1vbs'\n",
        "access_token = '1852646156670783488-08Cfj7etTJiwHxGLJI9JKcmkE9lpb9'\n",
        "access_token_secret = 'hKrAdMwhMKNGcmmqi0Fw1ejptFYdJIH8uUrMrApahHghL'\n",
        "\n",
        "#Pass in our twitter API authentication key\n",
        "auth = tweepy.OAuth1UserHandler(\n",
        "    consumer_key, consumer_secret,\n",
        "    access_token, access_token_secret\n",
        ")\n",
        "\n",
        "#Instantiate the tweepy API\n",
        "api = tweepy.API(auth, wait_on_rate_limit=True)\n",
        "\n",
        "\n",
        "search_query = \"'ref''world cup'-filter:retweets AND -filter:replies AND -filter:links\"\n",
        "no_of_tweets = 100\n",
        "\n",
        "try:\n",
        "    #The number of tweets we want to retrieved from the search\n",
        "    tweets = api.search_tweets(q=search_query, lang=\"en\", count=no_of_tweets, tweet_mode ='extended')\n",
        "\n",
        "    #Pulling Some attributes from the tweet\n",
        "    attributes_container = [[tweet.user.name, tweet.created_at, tweet.favorite_count, tweet.source, tweet.full_text] for tweet in tweets]\n",
        "\n",
        "    #Creation of column list to rename the columns in the dataframe\n",
        "    columns = [\"User\", \"Date Created\", \"Number of Likes\", \"Source of Tweet\", \"Tweet\"]\n",
        "\n",
        "    #Creation of Dataframe\n",
        "    tweets_df = pd.DataFrame(attributes_container, columns=columns)\n",
        "except BaseException as e:\n",
        "    print('Status Failed On,',str(e))"
      ],
      "metadata": {
        "id": "_u5ZmkrBYbkY"
      },
      "execution_count": null,
      "outputs": []
    }
  ]
}